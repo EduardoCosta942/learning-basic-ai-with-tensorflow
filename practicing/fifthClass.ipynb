{
 "cells": [
  {
   "cell_type": "markdown",
   "id": "02c3c666",
   "metadata": {},
   "source": [
    "# Creating a Neural Netowork\n",
    "In this class, I will learn how to create a Neural network. In order to do that, I will be using the Kera's Fashion DataSet, it contains 60,000 pictures (28x28) of clothes for training and 10,000 pictures for testing. At the end, my neural network should be able to classify the clothe part by a picture.\n",
    "\n",
    "About the input: Every pixel of the picture is going to be analyzed by a specific neuron, which means I am going to use 784 neurons on the input layer. OBS: The pixels may vary from 0 to 255, the higher the number is, it is closer to white."
   ]
  },
  {
   "cell_type": "code",
   "execution_count": 14,
   "id": "40ff0f8e",
   "metadata": {},
   "outputs": [],
   "source": [
    "# Importing:\n",
    "import tensorflow as tf\n",
    "from tensorflow import keras\n",
    "import numpy as np\n",
    "import matplotlib.pyplot as plt"
   ]
  },
  {
   "cell_type": "code",
   "execution_count": 15,
   "id": "3df3557c",
   "metadata": {},
   "outputs": [],
   "source": [
    "# Getting the Dataset:\n",
    "fashion_mnist = keras.datasets.fashion_mnist # Loading the dataset\n",
    "(train_images, train_labels), (test_images, test_labels) = fashion_mnist.load_data() # Splitting into Training and testing"
   ]
  },
  {
   "cell_type": "code",
   "execution_count": 16,
   "id": "a5aeeafb",
   "metadata": {},
   "outputs": [],
   "source": [
    "# Creating the labels:\n",
    "class_names = ['T-shirt/top', 'Trouser', 'Pullover', 'Dress', 'Coat',\n",
    "               'Sandal', 'Shirt', 'Sneaker', 'Bag', 'Ankle boot']"
   ]
  },
  {
   "cell_type": "code",
   "execution_count": 17,
   "id": "745a0d8c",
   "metadata": {},
   "outputs": [
    {
     "data": {
      "image/png": "[encoded data removed]",
      "text/plain": [
       "<Figure size 640x480 with 1 Axes>"
      ]
     },
     "metadata": {},
     "output_type": "display_data"
    }
   ],
   "source": [
    "# Looking the inputs we have:\n",
    "plt.figure()\n",
    "plt.imshow(train_images[1])\n",
    "plt.grid(False)\n",
    "plt.show()"
   ]
  },
  {
   "cell_type": "markdown",
   "id": "f073c75a",
   "metadata": {},
   "source": [
    "# Data preprocessing:\n",
    "Since every pixel can vary between 0 and 255, a good practice is to preprocess the data. This means, to decrease the values so the mathematics may be easier, requiring less computational power."
   ]
  },
  {
   "cell_type": "code",
   "execution_count": 18,
   "id": "63cc7811",
   "metadata": {},
   "outputs": [],
   "source": [
    "train_images = train_images / 255.0 \n",
    "test_images = test_images / 255.0\n",
    "#.0 to guarantee the value will be float\n",
    "# This preprocess step guarantee that every pixel is between 0 and 1"
   ]
  },
  {
   "cell_type": "code",
   "execution_count": 19,
   "id": "02e62aac",
   "metadata": {},
   "outputs": [],
   "source": [
    "# Building the model:\n",
    "model = keras.Sequential([\n",
    "    keras.layers.Flatten(input_shape=(28,28)), # Tells how many neurons on the input layer. (Obs: Every image is flattened)\n",
    "    keras.layers.Dense(128, activation='relu'), # Tells how many neurons on the hidden layer and their activation function\n",
    "    keras.layers.Dense(10, activation='softmax') # Tells how many neurons on the output layer and the AF.\n",
    "])"
   ]
  },
  {
   "cell_type": "code",
   "execution_count": 20,
   "id": "afe4b0d2",
   "metadata": {},
   "outputs": [],
   "source": [
    "# Compiling the model:\n",
    "model.compile(optimizer='adam', # The gradient descent\n",
    "              loss='sparse_categorical_crossentropy', # The loss function. This is the best for classification problems.\n",
    "                                                        # Use the Loss function for linear regression problems.\n",
    "              metrics=['accuracy'] #The metric to monitore the performance of the model\n",
    "              )\n"
   ]
  },
  {
   "cell_type": "code",
   "execution_count": 21,
   "id": "abdccf8e",
   "metadata": {},
   "outputs": [
    {
     "name": "stdout",
     "output_type": "stream",
     "text": [
      "Epoch 1/2\n",
      "1875/1875 [==============================] - 2s 1ms/step - loss: 0.4983 - accuracy: 0.8252\n",
      "Epoch 2/2\n",
      "1875/1875 [==============================] - 2s 1ms/step - loss: 0.3732 - accuracy: 0.8650\n"
     ]
    },
    {
     "data": {
      "text/plain": [
       "<keras.src.callbacks.History at 0x1feb1b23190>"
      ]
     },
     "execution_count": 21,
     "metadata": {},
     "output_type": "execute_result"
    }
   ],
   "source": [
    "model.fit(train_images, train_labels, epochs=2)"
   ]
  },
  {
   "cell_type": "code",
   "execution_count": 22,
   "id": "ed697c5e",
   "metadata": {},
   "outputs": [
    {
     "name": "stdout",
     "output_type": "stream",
     "text": [
      "313/313 [==============================] - 0s 794us/step - loss: 0.3988 - accuracy: 0.8590\n",
      "Test Accuracy:  85.9000027179718\n"
     ]
    }
   ],
   "source": [
    "# Evaluating the model\n",
    "test_loss, test_acc = model.evaluate(test_images, test_labels, verbose=1) #Verbose is how many information is printed\n",
    "\n",
    "print('Test Accuracy: ', test_acc*100)"
   ]
  },
  {
   "cell_type": "code",
   "execution_count": 23,
   "id": "319d1241",
   "metadata": {},
   "outputs": [
    {
     "name": "stdout",
     "output_type": "stream",
     "text": [
      "313/313 [==============================] - 0s 692us/step\n"
     ]
    },
    {
     "data": {
      "image/png": "[encoded data removed]",
      "text/plain": [
       "<Figure size 640x480 with 1 Axes>"
      ]
     },
     "metadata": {},
     "output_type": "display_data"
    },
    {
     "name": "stdout",
     "output_type": "stream",
     "text": [
      "\u001b[32m Sandal \u001b[0m\n"
     ]
    }
   ],
   "source": [
    "# Making predictions:\n",
    "predictions = model.predict(test_images)\n",
    "\n",
    "# Showing the item that is been predicted\n",
    "plt.figure()\n",
    "plt.imshow(test_images[9999])\n",
    "plt.show()\n",
    "\n",
    "# Printing the prediction:\n",
    "print('\\033[32m', class_names[np.argmax(predictions[9999])], '\\033[0m')"
   ]
  }
 ],
 "metadata": {
  "kernelspec": {
   "display_name": "tfok",
   "language": "python",
   "name": "python3"
  },
  "language_info": {
   "codemirror_mode": {
    "name": "ipython",
    "version": 3
   },
   "file_extension": ".py",
   "mimetype": "text/x-python",
   "name": "python",
   "nbconvert_exporter": "python",
   "pygments_lexer": "ipython3",
   "version": "3.11.13"
  }
 },
 "nbformat": 4,
 "nbformat_minor": 5
}
