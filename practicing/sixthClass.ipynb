{
 "cells": [
  {
   "cell_type": "markdown",
   "id": "e26b6e2d",
   "metadata": {},
   "source": [
    "# Natural Language Processing\n",
    "Natural Language Processing (NLP) is a discipline of AI that deals with the communication between humans and computers. The NLP has shown the wolrd a piece of what AIs can do, by the popularity of autocompletes, chatbots and human-machine interaction. After all, NLP is the part that focusses on how computers can understand and interact to natural/human language."
   ]
  },
  {
   "cell_type": "markdown",
   "id": "2832f3fe",
   "metadata": {},
   "source": [
    "# Recurrent Neural Networks\n",
    "Recurrent neural network is a type of neural network designed to process sequential data by maintaining the memory of preivous inputs. RNNs have loops in their architecture, allowing information to persist across steps in a sequence."
   ]
  },
  {
   "cell_type": "markdown",
   "id": "e9c5990c",
   "metadata": {},
   "source": [
    "# "
   ]
  }
 ],
 "metadata": {
  "language_info": {
   "name": "python"
  }
 },
 "nbformat": 4,
 "nbformat_minor": 5
}
