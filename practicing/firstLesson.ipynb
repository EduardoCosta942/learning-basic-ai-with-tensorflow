{
 "cells": [
  {
   "cell_type": "code",
   "execution_count": 24,
   "id": "6a3705c0",
   "metadata": {},
   "outputs": [],
   "source": [
    "import tensorflow\n",
    "import numpy"
   ]
  },
  {
   "cell_type": "markdown",
   "id": "d4720432",
   "metadata": {},
   "source": [
    "# What is TensorFlow?\n",
    "-> TensorFlow is an open source machine learning platform. This platform allows us to create AI models, image classification, data clustering, regression, feinforcement learning and natural language processing. The things you can do with TensorFlow is pretty much everything you need to do everything with Machine Learning (ML).\n",
    "\n",
    "Observation: TensorFlow is owned and maintianed by Google.\n",
    "\n",
    "# TensorFlow Foundations (Graphs)\n",
    "I.E.: Data structure that defines the computation you want to perform. Every operation like summing, dividing, calculating the loss function or running gradient descent is first added as a node in this graph. Only after the graph is built TensorFlow executes it, usually in a session.\n",
    "\n",
    "This differs from typical imperative programming, where the computer performs computations immediately, step by step, often using low-level binary arithmetic. In TensorFlow you first describe the computation as a graph and then run it to get results.\n",
    "\n",
    "# TensorFlow Foundations (Session)\n",
    "-> A Session is the runtime environment that executes the computation graph. The session handle things like: Alocating memory, running operations on CPUs or GPUs and fetching outputs.\n",
    "\n",
    "# What are Tensors?\n",
    "\"A tensor is a generalization of vectors and matrices to potentially higher dimensions. Internally, TensorFlow represents tensors as n-dimensional arrays of base datatypes.\"\n",
    "\n",
    "In other words, a tensor is a data structure that can represent a scalar, a vector, a matrix, or higher-dimensional arrays, depending on the number of dimensions it has. To define a Tensor, you must define the Data Type (float32, int32, string and others) and the shape of it.\n",
    "\n",
    "\n"
   ]
  },
  {
   "cell_type": "code",
   "execution_count": 25,
   "id": "fda09342",
   "metadata": {},
   "outputs": [],
   "source": [
    "# Creating Tensors:\n",
    "stringTensor = tensorflow.Variable(\"Value\", tensorflow.string) # Type: string\n",
    "intTensor = tensorflow.Variable(1, tensorflow.int32) # Type: Integer of 32 bits\n",
    "floatTensor = tensorflow.Variable(1.2, tensorflow.float64) # Type: float of 64 bits\n",
    "\n",
    "#Observation: You can define the amount of bits after the type\n",
    "# Syntax: varName = tensorflow.Variable(value, tensorflow.typeBits)"
   ]
  },
  {
   "cell_type": "markdown",
   "id": "ffefbf3c",
   "metadata": {},
   "source": [
    "# The Shape of a Tensor\n",
    "-> Think of a Tensor as a container, and its shape describes its structure. For example, a Tensor with the value [[2, 2], [2, 2]] has the shape (2, 2), meaning it has 2 rows and 2 columns. The product of the shape’s dimensions (2 × 2) tells us the total number of elements stored in the Tensor."
   ]
  },
  {
   "cell_type": "code",
   "execution_count": 26,
   "id": "f2572378",
   "metadata": {},
   "outputs": [
    {
     "data": {
      "text/plain": [
       "TensorShape([3, 2, 1])"
      ]
     },
     "execution_count": 26,
     "metadata": {},
     "output_type": "execute_result"
    }
   ],
   "source": [
    "# It is possible to find the Shape of a Tensor by the method:\n",
    "shape321 = tensorflow.Variable([[[1],[2]], [[3],[4]], [[5],[6]]], tensorflow.int32) # Tensor of shape (3,2,1)\n",
    "shape321.shape"
   ]
  },
  {
   "cell_type": "markdown",
   "id": "100e8b9b",
   "metadata": {},
   "source": [
    "# The Rank/Degree of a Tensor\n",
    "The rank / Degree of a Tensor means how many dimensions it has. If there is only 1 value into the Tensor, it will be a Scalar, so the rank/degree is 0, respectvely. Continuing with this idea, if the value represents a vector, the rank should be 1, since it will have only 1 dimension.\n",
    "\n",
    "List of values and the correspondenting rank/degree:\n",
    "<table>\n",
    "    <th>Value</th>\n",
    "    <th>Rank</th>\n",
    "    <tr><td>2</td><td>0</td></tr>\n",
    "    <tr><td>[2,2]</td><td>1</td></tr>\n",
    "    <tr><td>[[2,2],[2,2]]</td>2<td>2</td></tr>\n",
    "    <tr><td>[[2,2],[2,2],[2,2]]</td><td>2</td></tr>\n",
    "    <tr><td>[[[2,2],[2,2],[2,2]],[[2,2],[2,2],[2,2]]]</td><td>3</td></tr>\n",
    "    <tr><td>[[[2,2,2,2],[2,2,2,2],[2,2,2,2]],[[2,2,2,2],[2,2,2,2],[2,2,2,2]]]</td><td>3</td></tr>\n",
    "    <tr><td>[2,2,2,2,2,2]</td><td>1</td></tr>\n",
    "</table>\n",
    "\n",
    "Tip: Count the amount of opening bracks before the first number, it also indicates the rank/degree"
   ]
  },
  {
   "cell_type": "code",
   "execution_count": 27,
   "id": "7a5d3abf",
   "metadata": {},
   "outputs": [
    {
     "data": {
      "text/plain": [
       "<tf.Tensor: shape=(), dtype=int32, numpy=3>"
      ]
     },
     "execution_count": 27,
     "metadata": {},
     "output_type": "execute_result"
    }
   ],
   "source": [
    "# Also, to find the rank/degree of a Tensor, we can use the method:\n",
    "threeDegreesTensor = tensorflow.Variable([[[2,2],[2,2],[2,2]],[[2,2],[2,2],[2,2]]], tensorflow.int32) # Rank 3 Tensor\n",
    "tensorflow.rank(threeDegreesTensor) # The output as \"numpy\" indicates the Rank."
   ]
  },
  {
   "cell_type": "markdown",
   "id": "632a79e5",
   "metadata": {},
   "source": [
    "# Reshaping a Tensor\n",
    "It is possible to change the shape of a Tensor by the method.\n",
    "Syntax explanation: tensorflow.reshape(tensorToReshape, newShape)\n",
    "\n",
    "Observation: The amount of elements before and afeter reshaping must be the same."
   ]
  },
  {
   "cell_type": "code",
   "execution_count": 32,
   "id": "630e2750",
   "metadata": {},
   "outputs": [
    {
     "data": {
      "text/plain": [
       "<tf.Tensor: shape=(3, 2), dtype=int32, numpy=\n",
       "array([[1, 2],\n",
       "       [3, 4],\n",
       "       [5, 6]], dtype=int32)>"
      ]
     },
     "execution_count": 32,
     "metadata": {},
     "output_type": "execute_result"
    }
   ],
   "source": [
    "#Example:\n",
    "tensorflow.reshape(shape321, [3,2])\n",
    "tensorflow.reshape(shape321, [3, -1]) # -1 asks the TensorFlow to calculate the possible value for it."
   ]
  },
  {
   "cell_type": "markdown",
   "id": "e7d4a9bc",
   "metadata": {},
   "source": [
    "# Types of Tensors\n",
    "Variable: The only mutable Tensor available for creating.\n",
    "Constant: Behaves like the variable (they are pretty much the same), what changes is that it becames immutable.\n",
    "SparseTensor: Represents Tensors that have mostly zero (or default) values. It stores: 1- Indices of the non-zero values, where they will be located; 2- The zero values, 3- The shape of the Tensor"
   ]
  },
  {
   "cell_type": "code",
   "execution_count": null,
   "id": "0e57abeb",
   "metadata": {},
   "outputs": [],
   "source": [
    "# Creating more Tensors:\n",
    "sparseTensor = tensorflow.sparse.SparseTensor(\n",
    "    indices=[[0,0],[1,2]], # List of the non-zero values indices\n",
    "    values=[3,7], # Indices of zeroes\n",
    "    dense_shape=[3,4] # The shape of the Tensor\n",
    ")\n",
    "\n",
    "constantTensor = tensorflow.constant([1,1,1], dtype=tensorflow.int3)"
   ]
  }
 ],
 "metadata": {
  "kernelspec": {
   "display_name": "Python 3",
   "language": "python",
   "name": "python3"
  },
  "language_info": {
   "codemirror_mode": {
    "name": "ipython",
    "version": 3
   },
   "file_extension": ".py",
   "mimetype": "text/x-python",
   "name": "python",
   "nbconvert_exporter": "python",
   "pygments_lexer": "ipython3",
   "version": "3.11.9"
  }
 },
 "nbformat": 4,
 "nbformat_minor": 5
}
